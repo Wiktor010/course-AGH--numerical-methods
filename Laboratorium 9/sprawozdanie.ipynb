{
 "cells": [
  {
   "cell_type": "markdown",
   "metadata": {},
   "source": [
    "# <center>Laboratorium 9<br>Metody Numeryczne</center>"
   ]
  },
  {
   "cell_type": "markdown",
   "metadata": {},
   "source": [
    "Instrukcja:  \n",
    "Na zajęciach należy wykonać poniższe zadania, a następnie sporządzić sprawozdanie zawierające odpowiedzi (w postaci kodu) z komentarzami w środowisku Jupyter Notebook i umieścić je na platformie e-learningowej."
   ]
  },
  {
   "cell_type": "markdown",
   "metadata": {},
   "source": [
    "***Materiały przygotowujące:***\n"
   ]
  },
  {
   "cell_type": "code",
   "execution_count": 1,
   "metadata": {},
   "outputs": [
    {
     "ename": "ModuleNotFoundError",
     "evalue": "No module named 'dill'",
     "output_type": "error",
     "traceback": [
      "\u001b[1;31m---------------------------------------------------------------------------\u001b[0m",
      "\u001b[1;31mModuleNotFoundError\u001b[0m                       Traceback (most recent call last)",
      "\u001b[1;32m<ipython-input-1-1af52fc09cad>\u001b[0m in \u001b[0;36m<module>\u001b[1;34m\u001b[0m\n\u001b[0;32m      5\u001b[0m \u001b[1;32mimport\u001b[0m \u001b[0mmatplotlib\u001b[0m\u001b[1;33m.\u001b[0m\u001b[0mpyplot\u001b[0m \u001b[1;32mas\u001b[0m \u001b[0mplt\u001b[0m\u001b[1;33m\u001b[0m\u001b[1;33m\u001b[0m\u001b[0m\n\u001b[0;32m      6\u001b[0m \u001b[1;32mimport\u001b[0m \u001b[0mmath\u001b[0m\u001b[1;33m\u001b[0m\u001b[1;33m\u001b[0m\u001b[0m\n\u001b[1;32m----> 7\u001b[1;33m \u001b[1;32mimport\u001b[0m \u001b[0mdill\u001b[0m\u001b[1;33m\u001b[0m\u001b[1;33m\u001b[0m\u001b[0m\n\u001b[0m\u001b[0;32m      8\u001b[0m \u001b[1;33m\u001b[0m\u001b[0m\n\u001b[0;32m      9\u001b[0m \u001b[0mexpected\u001b[0m \u001b[1;33m=\u001b[0m \u001b[0mdill\u001b[0m\u001b[1;33m.\u001b[0m\u001b[0mload\u001b[0m\u001b[1;33m(\u001b[0m\u001b[0mopen\u001b[0m\u001b[1;33m(\u001b[0m\u001b[1;34m'expected'\u001b[0m\u001b[1;33m,\u001b[0m\u001b[1;34m'rb'\u001b[0m\u001b[1;33m)\u001b[0m\u001b[1;33m)\u001b[0m\u001b[1;33m\u001b[0m\u001b[1;33m\u001b[0m\u001b[0m\n",
      "\u001b[1;31mModuleNotFoundError\u001b[0m: No module named 'dill'"
     ]
    }
   ],
   "source": [
    "import main\n",
    "import numpy as np\n",
    "import scipy.optimize\n",
    "import matplotlib\n",
    "import matplotlib.pyplot as plt\n",
    "import math\n",
    "import dill\n",
    "\n",
    "expected = dill.load(open('expected','rb'))\n",
    "\n",
    "results_bisection = expected['bisection']\n",
    "f = results_bisection[12][2]\n",
    "a = results_bisection[12][1]\n",
    "\n",
    "f(a)"
   ]
  },
  {
   "cell_type": "markdown",
   "metadata": {},
   "source": [
    "***Temat główny:***\n",
    "\n",
    "Znajdź miejsca zerowe funkcji: \n",
    "$$ \n",
    "f(x) = e^{-2x} + x^2 - 1 \n",
    "$$,\n",
    "\n",
    "metodami:\n",
    "* Bisekcji,\n",
    "* Siecznych,\n",
    "* Newtona\n",
    "\n",
    "Funkcja i jej pochodne zostały zaimplementowane w *main.py*"
   ]
  },
  {
   "cell_type": "markdown",
   "metadata": {},
   "source": [
    "***Zadanie 1.***  \n",
    "Wykonaj wykres funckji oraz jej pierwszej i drugiej pochodnej (obliczonej analitycznie) na jednym rysunku w przedziale pozwalającym na zgrubne określenie miejsc zerowych. Wykres powinien być odpowiednio opisany. Określ przedział miejsca zerowego."
   ]
  },
  {
   "cell_type": "code",
   "execution_count": 2,
   "metadata": {},
   "outputs": [
    {
     "data": {
      "text/plain": [
       "(-10.0, 10.0)"
      ]
     },
     "execution_count": 2,
     "metadata": {},
     "output_type": "execute_result"
    },
    {
     "data": {
      "image/png": "[encoded data removed]",
      "text/plain": [
       "<Figure size 432x288 with 1 Axes>"
      ]
     },
     "metadata": {
      "needs_background": "light"
     },
     "output_type": "display_data"
    }
   ],
   "source": [
    "x = np.linspace(-1,1.5,100)\n",
    "f = main.fun(x)\n",
    "df = main.dfun(x)\n",
    "ddf = main.ddfun(x)\n",
    "\n",
    "plt.figure()\n",
    "plt.plot(x,f,label='funkcja f')\n",
    "plt.plot(x,df,label='funkcja df/dx')\n",
    "plt.plot(x,ddf,label='funkcja ddf/ddx')\n",
    "plt.xlabel('x')\n",
    "plt.ylabel('y')\n",
    "plt.title('Wykres funkcji f i jej pochodnych')\n",
    "plt.grid(True)\n",
    "plt.legend((\"f(x)\", \"f \\'(x)\", \"f \\'\\'(x)\"))\n",
    "plt.ylim([-10,10])\n"
   ]
  },
  {
   "cell_type": "markdown",
   "metadata": {},
   "source": [
    "***Zadanie 2.***  \n",
    "Zaimplementuj [metodę bisekcji](https://en.wikipedia.org/wiki/Bisection_method)\n",
    "\n",
    "Gwarancja zbieżności:\n",
    "\n",
    "1) funkcja jest ciągła na danym przedziale [a,b]\n",
    "\n",
    "2) funkcja na końcach przedziału przyjmuje przeciwne znaki"
   ]
  },
  {
   "cell_type": "markdown",
   "metadata": {},
   "source": [
    "***Zadanie 3.***  \n",
    "Zaimplementuj [metodę siecznych](https://en.wikipedia.org/wiki/Secant_method)\n",
    "\n",
    "Gwarancja zbieżności:\n",
    "\n",
    "1) funkcja jest ciągła na danym przedziale [a,b]\n",
    "\n",
    "2) Pierwsza i druga pochodna istnieją i są ciągłe w przedziale domkniętym [a,b]\n",
    "\n",
    "3) funkcja na końcach przedziału przyjmuje przeciwne znaki\n",
    "\n",
    "4) pierwsza i druga pochodna mają stały znak (brak eksremów lokalnych i punktów przegięcia)\n"
   ]
  },
  {
   "cell_type": "markdown",
   "metadata": {},
   "source": [
    "***Zadanie 4.***  \n",
    "Zaimplementuj [metodę Newtona](https://en.wikipedia.org/wiki/Newton%27s_method)\n",
    "\n",
    "Gwarancja zbieżności:\n",
    "\n",
    "1) funkcja jest ciągła na danym przedziale [a,b]\n",
    "\n",
    "2) Pierwsza i druga pochodna istnieją i są ciągłe w przedziale domkniętym [a,b]\n",
    "\n",
    "3) funkcja na końcach przedziału przyjmuje przeciwne znaki\n",
    "\n",
    "4) pierwsza i druga pochodna mają stały znak (brak eksremów lokalnych i punktów przegięcia)\n"
   ]
  },
  {
   "cell_type": "markdown",
   "metadata": {},
   "source": [
    "***Zadania 5.***  \n",
    "Dla głównej funkcji z zadania 1 znajdź miejsca zerowe przy użyciu:\n",
    "\n",
    "* funkcji root dostępnej w pakiecie scipy.optimize\n",
    "* funkcji fsolve dostępnej w pakiecie scipy.optimize\n"
   ]
  },
  {
   "cell_type": "code",
   "execution_count": 3,
   "metadata": {},
   "outputs": [
    {
     "name": "stdout",
     "output_type": "stream",
     "text": [
      "Miejsca zerowe funkcji to :3.219646771412954e-17 i 0.7332500664576833\n"
     ]
    }
   ],
   "source": [
    "# Obliczanie miejsc zerowych sposób pierwszy funkcją root z pakietu scipy.optimize\n",
    "x1 = np.linspace(-0.5, 0.5, 100)\n",
    "x2 = np.linspace(0.5, 1,5,100)\n",
    "x_1 = scipy.optimize.root(main.fun,x1)\n",
    "x_2 = scipy.optimize.root(main.fun,x2)\n",
    "x0_1 = sum(x_1.x)/len(x1)\n",
    "x0_2 = sum(x_2.x)/len(x2)\n",
    "print(\"Miejsca zerowe funkcji to :{a} i {b}\".format(a=x0_1,b=x0_2))\n",
    "\n"
   ]
  },
  {
   "cell_type": "code",
   "execution_count": 4,
   "metadata": {},
   "outputs": [
    {
     "name": "stdout",
     "output_type": "stream",
     "text": [
      "Miejsca zerowe funkcji to:[0.91656258 0.91656258]\n"
     ]
    }
   ],
   "source": [
    "#Obliczenie miejsc zerowych sposób drugi funkcją root z pakietu scipy.optimize\n",
    "sol = scipy.optimize.root(main.fun,[1,2])\n",
    "print(\"Miejsca zerowe funkcji to:{a}\".format(a=sol.x))"
   ]
  },
  {
   "cell_type": "code",
   "execution_count": 5,
   "metadata": {},
   "outputs": [
    {
     "name": "stdout",
     "output_type": "stream",
     "text": [
      "Miejsce zerowe funkcji to :3.219646771412954e-17 i 0.9165625831046801\n"
     ]
    },
    {
     "name": "stderr",
     "output_type": "stream",
     "text": [
      "C:\\Users\\48693\\anaconda3\\lib\\site-packages\\scipy\\optimize\\minpack.py:175: RuntimeWarning: The iteration is not making good progress, as measured by the \n",
      "  improvement from the last ten iterations.\n",
      "  warnings.warn(msg, RuntimeWarning)\n"
     ]
    }
   ],
   "source": [
    "#Obliczanie miejsc zerowych sposób pierwszy funkcją fsolve z pakiteu scipy.optimize\n",
    "x1 = np.linspace(-0.5,0.5,100)\n",
    "x2 = np.linspace(0.5,1.5,100)\n",
    "x_1 = scipy.optimize.fsolve(main.fun,x1)\n",
    "x_2 = scipy.optimize.fsolve(main.fun,x2)\n",
    "x0_1=sum(x_1)/len(x1)\n",
    "x0_2=sum(x_2)/len(x2)\n",
    "print(\"Miejsce zerowe funkcji to :{a} i {b}\".format(a=x0_1,b=x0_2))"
   ]
  },
  {
   "cell_type": "code",
   "execution_count": 6,
   "metadata": {},
   "outputs": [
    {
     "name": "stdout",
     "output_type": "stream",
     "text": [
      "Miejsca zerowe funkcji to: [0.91656258 0.91656258]\n"
     ]
    }
   ],
   "source": [
    "#Obliczanie miejsc zerowych w sposób drugi funkcją fsolve z pakietu scipy.optimize\n",
    "sol = scipy.optimize.fsolve(main.fun,[1,2])\n",
    "print(\"Miejsca zerowe funkcji to: {a}\".format(a=sol))"
   ]
  },
  {
   "cell_type": "markdown",
   "metadata": {},
   "source": [
    "***Zadanie 6.***  \n",
    "Dla głównej funkcji oraz przedziału zdefiniowanego z zadania 1 znajdź miejsca zerowe przy użyciu:\n",
    "\n",
    "* metody bisekcji\n",
    "* metody siecznych\n",
    "* metody Newtona\n",
    "\n",
    "z tolerancją $10^{-10}$\n",
    "\n",
    "Zbadaj dokładność(względem rozwiązania z zadania 5) i czas obliczeń metod w zależności od liczby iteracji. Wyniki przedstaw na wykresach. "
   ]
  },
  {
   "cell_type": "code",
   "execution_count": 7,
   "metadata": {},
   "outputs": [
    {
     "name": "stdout",
     "output_type": "stream",
     "text": [
      "Metoda bisekcji\n",
      "\n",
      "Miejsca zerowe funkcji to: 2.9103830456733704e-11 i 0.9165625830646604\n",
      "Ilość iteracji to 33 i 31\n",
      "\n",
      "Metoda siecznych\n",
      "\n",
      "Miejsca zerowe funkcji to: 4.0762581191732014e-11 i 0.9165625830745937\n",
      "Ilość iteracji to 75 i 20\n",
      "\n",
      "Metoda newtona\n",
      "\n",
      "Miejsca zerowe funkcji to -5.753992934998626e-18 i 0.9165625831056984\n",
      "Ilość iteracji to 7 i 5\n",
      "\n",
      "Dokładność rozwiązań metodą bisekcji: 2.910379826026599e-11,4.0019654257150705e-11\n",
      "\n",
      "Dokładność rozwiązań metodą siecznych: 4.07625489952643e-11,3.008637783352697e-11\n",
      "\n",
      "Dokładność rozwiązań metodą newtona: 3.7950460649128164e-17,1.0182965581861936e-12\n",
      "\n"
     ]
    },
    {
     "data": {
      "image/png": "[encoded data removed]",
      "text/plain": [
       "<Figure size 432x288 with 1 Axes>"
      ]
     },
     "metadata": {
      "needs_background": "light"
     },
     "output_type": "display_data"
    }
   ],
   "source": [
    "x1 = np.linspace(-1,0.5,100)\n",
    "x2 = np.linspace(0.5,1.5,100)\n",
    "#Metoda bisekcji\n",
    "x1_b,it1 = main.bisection(float(x1[0]),float(x1[-1]),main.fun,10**-10,100)\n",
    "x2_b,it2 = main.bisection(float(x2[0]),float(x2[-1]),main.fun,10**-10,100)\n",
    "print(\"Metoda bisekcji\\n\")\n",
    "print(\"Miejsca zerowe funkcji to: {a} i {b}\".format(a=x1_b,b=x2_b))\n",
    "print(\"Ilość iteracji to {a} i {b}\\n\".format(a=it1,b=it2))\n",
    "\n",
    "#Metoda siecznych\n",
    "x1_s,it3 = main.secant(float(x1[0]),float(x1[-1]),main.fun,10**-10,100)\n",
    "x2_s,it4 = main.secant(float(x2[0]),float(x2[-1]),main.fun,10**-10,100)\n",
    "print(\"Metoda siecznych\\n\")\n",
    "print(\"Miejsca zerowe funkcji to: {a} i {b}\".format(a=x1_s,b=x2_s))\n",
    "print(\"Ilość iteracji to {a} i {b}\\n\".format(a=it3,b=it4))\n",
    "\n",
    "#Metoda Newtona\n",
    "x1_n,it5 = main.newton(main.fun,main.dfun,main.ddfun,-1,0.1,10**-10,100)\n",
    "x2_n,it6 = main.newton(main.fun,main.dfun,main.ddfun,float(x2[0]),float(x2[-1]),10**-10,100)\n",
    "print(\"Metoda newtona\\n\")\n",
    "print(\"Miejsca zerowe funkcji to {a} i {b}\".format(a=x1_n,b=x2_n))\n",
    "print(\"Ilość iteracji to {a} i {b}\\n\".format(a=it5,b=it6))\n",
    "\n",
    "#Dokładność rozwiązań\n",
    "e_b_1 = abs(x0_1 - x1_b)\n",
    "e_b_2 = abs(x0_2 - x2_b)\n",
    "e_s_1 = abs(x0_1 - x1_s)\n",
    "e_s_2 = abs(x0_2 - x2_s)\n",
    "e_n_1 = abs(x0_1 - x1_n)\n",
    "e_n_2 = abs(x0_2 - x2_n)\n",
    "print(\"Dokładność rozwiązań metodą bisekcji: {a},{b}\\n\".format(a=e_b_1,b=e_b_2))\n",
    "print(\"Dokładność rozwiązań metodą siecznych: {a},{b}\\n\".format(a=e_s_1,b=e_s_2))\n",
    "print(\"Dokładność rozwiązań metodą newtona: {a},{b}\\n\".format(a=e_n_1,b=e_n_2))\n",
    "\n",
    "labels = ['Metoda biekcji', 'Metoda siecznych', 'Metoda Newtona']\n",
    "root1 = [e_b_1, e_s_1, e_n_1]\n",
    "root2 = [e_b_2, e_s_2, e_n_2]\n",
    "\n",
    "x = np.arange(len(labels))\n",
    "width = 0.3\n",
    "\n",
    "fig, ax = plt.subplots()\n",
    "rects1 = ax.bar( x-width/2, root1, width)\n",
    "rects2 = ax.bar(x + width/2, root2, width)\n",
    "\n",
    "plt.yscale(\"log\")\n",
    "ax.set_ylabel('Błąd')\n",
    "ax.set_title('Dokładność rozwiązania')\n",
    "ax.set_xticks(x)\n",
    "ax.set_xticklabels(labels)\n",
    "\n",
    "\n",
    "plt.show()\n",
    "\n",
    "#Czas obliczeń dla poszczególnych metod\n",
    "#n = [5,10,15,50,100]\n",
    "#time_b=[]\n",
    "#time_s=[]\n",
    "#time_n=[]\n",
    "\n",
    "#for i in n:\n",
    "    #saved_timing = %timeit -r 20 -n 20 -o main.bisection(float(x1[0]),float(x1[-1],main.fun,10**-10,n)\n",
    "    #time_b.append(saved_timing.average)\n",
    "    \n",
    "    #saved_timing = %timeit -r 20 -n 20 -o main.secant(float(x1[0],float(x1[-1]),main.fun,10**-10,n)\n",
    "    #time_s.append(saved_timing.averag"
   ]
  },
  {
   "cell_type": "code",
   "execution_count": 8,
   "metadata": {},
   "outputs": [
    {
     "name": "stdout",
     "output_type": "stream",
     "text": [
      "2.23 µs ± 400 ns per loop (mean ± std. dev. of 20 runs, 20 loops each)\n",
      "1.94 µs ± 93.8 ns per loop (mean ± std. dev. of 20 runs, 20 loops each)\n",
      "3.58 µs ± 369 ns per loop (mean ± std. dev. of 20 runs, 20 loops each)\n",
      "1.91 µs ± 528 ns per loop (mean ± std. dev. of 20 runs, 20 loops each)\n",
      "2.02 µs ± 539 ns per loop (mean ± std. dev. of 20 runs, 20 loops each)\n"
     ]
    },
    {
     "data": {
      "image/png": "[encoded data removed]",
      "text/plain": [
       "<Figure size 432x288 with 1 Axes>"
      ]
     },
     "metadata": {
      "needs_background": "light"
     },
     "output_type": "display_data"
    }
   ],
   "source": [
    "#Czas obliczeń dla metody bisekscji\n",
    "n = [5,10,15,50,100]\n",
    "time_b=[]\n",
    "\n",
    "\n",
    "x1 = np.linspace(-1,0.5,100)\n",
    "x2=np.linspace(0.5,1.5,100)\n",
    "for i in n:\n",
    "    saved_timing = %timeit -r 20 -n 20 -o main.bisection(float(x1[0]), float(x1[-1]), main.fun, 10**-10, n)\n",
    "    time_b.append(saved_timing.average)\n",
    "    \n",
    "    \n",
    "    \n",
    "plt.figure()    \n",
    "plt.plot(n, time_b)\n",
    "plt.ylabel(\"Czas [s]\")\n",
    "plt.xlabel(\"Liczba iteracji\")\n",
    "plt.title(\"Czas wykonywania metody bisekcji w zależności od liczby iteracji\")\n",
    "plt.grid(True)\n",
    "plt.show()\n",
    "\n"
   ]
  },
  {
   "cell_type": "code",
   "execution_count": 9,
   "metadata": {},
   "outputs": [
    {
     "name": "stdout",
     "output_type": "stream",
     "text": [
      "2 µs ± 235 ns per loop (mean ± std. dev. of 20 runs, 20 loops each)\n",
      "1.98 µs ± 246 ns per loop (mean ± std. dev. of 20 runs, 20 loops each)\n",
      "1.85 µs ± 168 ns per loop (mean ± std. dev. of 20 runs, 20 loops each)\n",
      "1.68 µs ± 70.9 ns per loop (mean ± std. dev. of 20 runs, 20 loops each)\n",
      "2.8 µs ± 696 ns per loop (mean ± std. dev. of 20 runs, 20 loops each)\n"
     ]
    },
    {
     "data": {
      "image/png": "[encoded data removed]",
      "text/plain": [
       "<Figure size 432x288 with 1 Axes>"
      ]
     },
     "metadata": {
      "needs_background": "light"
     },
     "output_type": "display_data"
    }
   ],
   "source": [
    "#Czas obliczeń dla poszczególnych dla metody siecznych\n",
    "n = [5,10,15,50,100]\n",
    "\n",
    "time_s=[]\n",
    "\n",
    "\n",
    "for i in n:\n",
    "    saved_timing = %timeit -r 20 -n 20 -o main.secant(float(x1[0]), float(x1[-1]), main.fun, 10**-10, n)\n",
    "    time_s.append(saved_timing.average)\n",
    "    \n",
    "    \n",
    "    \n",
    "plt.plot(n, time_s)\n",
    "plt.ylabel(\"Czas [s]\")\n",
    "plt.xlabel(\"Liczba iteracji\")\n",
    "plt.title(\"Czas wykonywania metody siecznych w zależności od liczby iteracji\")\n",
    "plt.grid(True)\n",
    "plt.show()"
   ]
  },
  {
   "cell_type": "code",
   "execution_count": 10,
   "metadata": {},
   "outputs": [
    {
     "name": "stdout",
     "output_type": "stream",
     "text": [
      "The slowest run took 7.86 times longer than the fastest. This could mean that an intermediate result is being cached.\n",
      "2.05 µs ± 956 ns per loop (mean ± std. dev. of 100 runs, 100 loops each)\n",
      "The slowest run took 6.30 times longer than the fastest. This could mean that an intermediate result is being cached.\n",
      "1.75 µs ± 867 ns per loop (mean ± std. dev. of 100 runs, 100 loops each)\n",
      "The slowest run took 9.94 times longer than the fastest. This could mean that an intermediate result is being cached.\n",
      "1.78 µs ± 1.15 µs per loop (mean ± std. dev. of 100 runs, 100 loops each)\n",
      "The slowest run took 15.42 times longer than the fastest. This could mean that an intermediate result is being cached.\n",
      "2.22 µs ± 2.07 µs per loop (mean ± std. dev. of 100 runs, 100 loops each)\n",
      "The slowest run took 10.27 times longer than the fastest. This could mean that an intermediate result is being cached.\n",
      "2.08 µs ± 1.53 µs per loop (mean ± std. dev. of 100 runs, 100 loops each)\n"
     ]
    },
    {
     "data": {
      "image/png": "[encoded data removed]",
      "text/plain": [
       "<Figure size 432x288 with 1 Axes>"
      ]
     },
     "metadata": {
      "needs_background": "light"
     },
     "output_type": "display_data"
    }
   ],
   "source": [
    "#Czas obliczeń dla metody newtona\n",
    "n = [5,10,15,50,100]\n",
    "\n",
    "time_n=[]\n",
    "\n",
    "for i in n:\n",
    "    saved_timing = %timeit -r 20 -n 20 -o main.newton(main.fun, main.dfun, main.ddfun, -0.25, 0.2, 1e-10, n)\n",
    "    time_n.append(saved_timing.average)\n",
    "    \n",
    "    \n",
    "    \n",
    "plt.plot(n, time_n)\n",
    "plt.ylabel(\"Czas [s]\")\n",
    "plt.xlabel(\"Liczba iteracji\")\n",
    "plt.title(\"Czas wykonywania metody newtona w zależności od liczby iteracji\")\n",
    "plt.grid(True)\n",
    "plt.show()"
   ]
  },
  {
   "cell_type": "markdown",
   "metadata": {},
   "source": [
    "**Wnioski:**\n",
    "Ćwiczenia te pozwoliły mi zapoznać się z rozwiązywaniami równań nieliniowych metodami bisekcji, siecznych oraz metodą newtona. Na początku należało zdefiniować funkcje dla każdej z podanych wyżej metod. Musieliśmy znać warunki oraz poszczególny algorytm dla metody. Do szukania miejsc zerowych korzystaliśmy również z gotowych bibliotek scipy.optimize. Według mnie są one najprecyzyniejsze oraz najszybsze. W ostatnim zadaniu dla tej samej funkcji szukaliśmy miejsc zerowych trzema metodami. Najdokładniejszą metodą okazała się być metoda Newtona, która praktycznie osiągnęła zero maszynowe. Jest ona również najszybciej zbieżna do rozwiązania, jednak stawia ona największe wymagania co do kstałtu badanej funkcji. Pozostałe metody są nieznacznie wolniejsze. Ilość iteracji nie ma większego wpływu na czas obliczeń. Metody siecznych oraz bisekcji są mniej dokładne od metody newtona. Największą wadę posaida metoda bisekcji ponieważ ilość wykonań pętli zależy od tego w którym miejscu przedziału \n"
   ]
  },
  {
   "cell_type": "code",
   "execution_count": null,
   "metadata": {},
   "outputs": [],
   "source": []
  }
 ],
 "metadata": {
  "kernelspec": {
   "display_name": "Python 3",
   "language": "python",
   "name": "python3"
  },
  "language_info": {
   "codemirror_mode": {
    "name": "ipython",
    "version": 3
   },
   "file_extension": ".py",
   "mimetype": "text/x-python",
   "name": "python",
   "nbconvert_exporter": "python",
   "pygments_lexer": "ipython3",
   "version": "3.8.8"
  }
 },
 "nbformat": 4,
 "nbformat_minor": 2
}
