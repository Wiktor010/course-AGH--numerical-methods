{
 "cells": [
  {
   "cell_type": "markdown",
   "metadata": {},
   "source": [
    "# <center>Rozwiązywanie układów równań</center>\n",
    "# <center>Metody iteracyjne</center>"
   ]
  },
  {
   "cell_type": "markdown",
   "metadata": {},
   "source": [
    "Instrukcja:\n",
    "Na zajęciach należy wykonać poniższe zadania, a następnie sporządzić sprawozdanie zawierające odpowiedzi (w postaci kodu) z komentarzami w środowisku Jupyter Notebook i umieścić je na platformie e-learningowej.   "
   ]
  },
  {
   "cell_type": "code",
   "execution_count": null,
   "metadata": {},
   "outputs": [],
   "source": [
    "import main\n",
    "import scipy as sp\n",
    "import numpy as np\n",
    "import scipy.sparse.linalg as sp_linalg\n",
    "import numpy.linalg as np_linalg\n",
    "import matplotlib\n",
    "import matplotlib.pyplot as plt"
   ]
  },
  {
   "cell_type": "markdown",
   "metadata": {},
   "source": [
    "**Cel zajęć:**  \n",
    "Celem zajęć jest zapoznanie się z iteracyjnymi metodami rozwiązywania układów równań liniowych w postaci macierzowej. Metody iteracyjne, w przeciwieństwie do analitycznych, nie zwracają dokładnego rozwiązania, a jedynie jego przybliżenie. Przy spełnionych kryteriach, przybliżenia obliczane w kolejnych iteracjach są zbieżne do dokładnego rozwiązania. Metody iteracyjne znajdują swoje zastosowanie szczególnie przy dużych układach równań postaci: \n",
    "   \n",
    "$\n",
    "\\mathbf{Ax}=\\mathbf{b}\n",
    "$ \n",
    "  \n",
    "gdzie $\\mathbf{A}$ to macierz współczynników z lewej strony równania, wektor $\\mathbf{x}$ jest wektorem zmiennych a wektor $\\mathbf{b}$ wyników prawej strony równania.  \n",
    "\n",
    "Do oceny jakości rozwiązania będziemy wykorzystywać residuum (ang. *residual*)\n",
    "$\n",
    "\\mathbf{r}=\\mathbf{b}-\\mathbf{Ax}\n",
    "$ \n",
    "  "
   ]
  },
  {
   "cell_type": "markdown",
   "metadata": {},
   "source": [
    "***Zadanie 1***   \n",
    "Zdefiniuję funkcję *diag_dominant_matrix_A_b*, przyjmującą paramter całkowity $m>0$ która zwróci:\n",
    "- macierz diagonalnie zdominowana $\\mathbf{A}$ o wymiarach $m \\times m$ (wyrazy na przekątnej sa wieksze co do modułu od sumy pozostałych w danej kolumnie i wierszu)\n",
    "- wektor $\\mathbf{b}$ o wymiarach $m \\times 1$ \n",
    " \n",
    "o losowych wartościach całkowitych\n",
    "\n",
    "Dodatkowo zdefiniuj funkcje *is_diag_dominant* sprawdzającą czy zadana macierz jest diagonalnie zdominowana"
   ]
  },
  {
   "cell_type": "markdown",
   "metadata": {},
   "source": [
    "***Zadanie 2***   \n",
    "Zdefiniuję funkcję *symmetric_matrix_A_b*, przyjmującą paramter całkowity $m>0$ która zwróci:\n",
    "- symetryczną macierz $\\mathbf{A}$ o wymiarach $m \\times m$ (wyrazy symetryczne względnej przekątnej są sobie równe)\n",
    "- wektor $\\mathbf{b}$ o wymiarach $m \\times 1$ \n",
    " \n",
    "o losowych wartościach całkowitych\n",
    "\n",
    "Dodatkowo zdefiniuj funkcje is_symmetric sprawdzającą czy zadana macierz jest symetryczna"
   ]
  },
  {
   "cell_type": "markdown",
   "metadata": {},
   "source": [
    "***Zadanie 3***   \n",
    "Zdefiniuję następujące układy równań:\n",
    "\n",
    "a) $\\mathbf{A_1}$, $\\mathbf{b_1}$: gdzie $\\mathbf{A_1}$ jest macierzą o wymiarach $m \\times m$, a $\\mathbf{b_1}$ wektorem $m \\times 1$, $m = 10$\n",
    "\n",
    "b) $\\mathbf{A_2}$, $\\mathbf{b_2}$: gdzie $\\mathbf{A_2}$ jest macierzą **diagonalnie zdominowaną** o wymiarach$m \\times m$, a $\\mathbf{b_2}$ wektorem $m \\times 1$, $m = 10$\n",
    " \n",
    "c) $\\mathbf{A_3}$, $\\mathbf{b_3}$: gdzie $\\mathbf{A_3}$ jest macierzą **symetryczną** o wymiarach $m \\times m$, a $\\mathbf{b_3}$ wektorem $m \\times 1$, $m = 10$   \n",
    " \n",
    "**Wskazówka**: Do generacji macierzy użyj metody *random_matrix_Ab* z lab6 oraz metod *diag_dominant_matrix_A_b* i *symmetric_matrix_A_b*"
   ]
  },
  {
   "cell_type": "markdown",
   "metadata": {},
   "source": [
    "***Zadanie 4***   \n",
    "Zaimplementuj iteracyjną metodę *solve_jacobi*, rozwiązującą układ równań metodą Jacobiego zgodnie z dokumentacją w pliku *main.py*.\n",
    "Szczegóły metody zostały przedstawione na wykładzie."
   ]
  },
  {
   "cell_type": "markdown",
   "metadata": {},
   "source": [
    "***Zadanie 5***   \n",
    "Rozwiąż układ równań z Zadania 3 podpunkt a) przy pomocy:\n",
    "\n",
    "- funkcji *[solve](https://docs.scipy.org/doc/numpy-1.15.1/reference/generated/numpy.linalg.solve.html?highlight=solve#numpy.linalg.solve)* z biblioteki numpy\n",
    "\n",
    "- zaimplementowanej iteracyjnej metody *solve_jacobi*\n",
    "\n",
    "- iteracyjnej metody *[gradientów sprzężonych](https://docs.scipy.org/doc/scipy/reference/generated/scipy.sparse.linalg.cg.html)*\n",
    " z biblioteki scipy\n",
    "\n",
    "- iteracyjnej metody *[GMRES](https://docs.scipy.org/doc/scipy/reference/generated/scipy.sparse.linalg.gmres.html)*\n",
    " z biblioteki scipy\n",
    "\n",
    "Przed każdą metodą sprawdź czy warunki dotyczące macierzy dla danej metody są spełnione. Zbadaj dokładność i czas obliczeń metod w zależności od liczby iteracji. Wyniki przedstaw na wykresach."
   ]
  },
  {
   "cell_type": "markdown",
   "metadata": {},
   "source": [
    "***Zadanie 6***     \n",
    "Rozwiąż układ równań z Zadania 3 podpunkt b) przy pomocy:\n",
    "\n",
    "- funkcji *[solve](https://docs.scipy.org/doc/numpy-1.15.1/reference/generated/numpy.linalg.solve.html?highlight=solve#numpy.linalg.solve)* z biblioteki numpy\n",
    "\n",
    "- zaimplementowanej iteracyjnej metody *solve_jacobi*\n",
    "\n",
    "- iteracyjnej metody *[gradientów sprzężonych](https://docs.scipy.org/doc/scipy/reference/generated/scipy.sparse.linalg.cg.html)*\n",
    " z biblioteki scipy\n",
    "\n",
    "- iteracyjnej metody *[GMRES](https://docs.scipy.org/doc/scipy/reference/generated/scipy.sparse.linalg.gmres.html)*\n",
    " z biblioteki scipy\n",
    "\n",
    "Przed każdą metodą sprawdź czy warunki dotyczące macierzy dla danej metody są spełnione. Zbadaj dokładność i czas obliczeń metod w zależności od liczby iteracji. Wyniki przedstaw na wykresach."
   ]
  },
  {
   "cell_type": "markdown",
   "metadata": {},
   "source": [
    "***Zadanie 7***   \n",
    "Rozwiąż układ równań z Zadania 3 podpunkt c) przy pomocy:\n",
    "\n",
    "- funkcji *[solve](https://docs.scipy.org/doc/numpy-1.15.1/reference/generated/numpy.linalg.solve.html?highlight=solve#numpy.linalg.solve)* z biblioteki numpy\n",
    "\n",
    "- zaimplementowanej iteracyjnej metody *solve_jacobi*\n",
    "\n",
    "- iteracyjnej metody *[gradientów sprzężonych](https://docs.scipy.org/doc/scipy/reference/generated/scipy.sparse.linalg.cg.html)*\n",
    " z biblioteki scipy\n",
    "\n",
    "- iteracyjnej metody *[GMRES](https://docs.scipy.org/doc/scipy/reference/generated/scipy.sparse.linalg.gmres.html)*\n",
    " z biblioteki scipy\n",
    "\n",
    "Przed każdą metodą sprawdź czy warunki dotyczące macierzy dla danej metody są spełnione. Zbadaj dokładność i czas obliczeń metod w zależności od liczby iteracji. Wyniki przedstaw na wykresach."
   ]
  },
  {
   "cell_type": "markdown",
   "metadata": {},
   "source": [
    "Materiały uzupełniające:\n",
    "- [Scipy Lecture Notes](http://www.scipy-lectures.org/index.html)\n",
    "- [NumPy for Matlab users](https://docs.scipy.org/doc/numpy/user/numpy-for-matlab-users.html#numpy-for-matlab-users)\n",
    "- [Python Tutorial - W3Schools](https://www.w3schools.com/python/default.asp)\n",
    "- [NumPy](https://www.numpy.org)\n",
    "- [Matplotlib](https://matplotlib.org/)\n",
    "- [Anaconda](https://www.anaconda.com/)\n",
    "- [Learn Python for Data Science](https://www.datacamp.com/learn-python-with-anaconda?utm_source=Anaconda_download&utm_campaign=datacamp_training&utm_medium=banner)\n",
    "- [Learn Python](https://www.learnpython.org/)\n",
    "- [Wujek Google](https://google.pl) i [Ciocia Wikipedia](https://pl.wikipedia.org/wiki/Wikipedia:Strona_g%C5%82%C3%B3wna)"
   ]
  }
 ],
 "metadata": {
  "kernelspec": {
   "display_name": "Python 3",
   "language": "python",
   "name": "python3"
  },
  "language_info": {
   "codemirror_mode": {
    "name": "ipython",
    "version": 3
   },
   "file_extension": ".py",
   "mimetype": "text/x-python",
   "name": "python",
   "nbconvert_exporter": "python",
   "pygments_lexer": "ipython3",
   "version": "3.8.8"
  }
 },
 "nbformat": 4,
 "nbformat_minor": 2
}
