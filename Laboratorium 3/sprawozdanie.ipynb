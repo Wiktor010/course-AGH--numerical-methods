{
 "cells": [
  {
   "cell_type": "markdown",
   "metadata": {},
   "source": [
    "# <center>Laboratorium 3<br>Metody Numeryczne</center>"
   ]
  },
  {
   "cell_type": "markdown",
   "metadata": {},
   "source": [
    "Instrukcja:  \n",
    "Na zajęciach należy wykonać poniższe zadania, dokonać testu na platformie github, a następnie sporządzić sprawozdanie zawierające odpowiedzi z komentarzami."
   ]
  },
  {
   "cell_type": "markdown",
   "metadata": {},
   "source": [
    "Biblioteki niezbędne do wykonania zadania:\n",
    "\n",
    "(instalacja: \"pip install numpy scipy matplotlib memory_profiler\")"
   ]
  },
  {
   "cell_type": "code",
   "execution_count": 3,
   "metadata": {},
   "outputs": [
    {
     "ename": "ModuleNotFoundError",
     "evalue": "No module named 'memory_profiler'",
     "output_type": "error",
     "traceback": [
      "\u001b[1;31m---------------------------------------------------------------------------\u001b[0m",
      "\u001b[1;31mModuleNotFoundError\u001b[0m                       Traceback (most recent call last)",
      "\u001b[1;32m<ipython-input-3-34103ab765e2>\u001b[0m in \u001b[0;36m<module>\u001b[1;34m\u001b[0m\n\u001b[0;32m      6\u001b[0m \u001b[1;32mimport\u001b[0m \u001b[0mmatplotlib\u001b[0m\u001b[1;33m.\u001b[0m\u001b[0mpyplot\u001b[0m \u001b[1;32mas\u001b[0m \u001b[0mplt\u001b[0m\u001b[1;33m\u001b[0m\u001b[1;33m\u001b[0m\u001b[0m\n\u001b[0;32m      7\u001b[0m \u001b[1;33m\u001b[0m\u001b[0m\n\u001b[1;32m----> 8\u001b[1;33m \u001b[0mget_ipython\u001b[0m\u001b[1;33m(\u001b[0m\u001b[1;33m)\u001b[0m\u001b[1;33m.\u001b[0m\u001b[0mrun_line_magic\u001b[0m\u001b[1;33m(\u001b[0m\u001b[1;34m'load_ext'\u001b[0m\u001b[1;33m,\u001b[0m \u001b[1;34m'memory_profiler'\u001b[0m\u001b[1;33m)\u001b[0m\u001b[1;33m\u001b[0m\u001b[1;33m\u001b[0m\u001b[0m\n\u001b[0m",
      "\u001b[1;32m~\\anaconda3\\lib\\site-packages\\IPython\\core\\interactiveshell.py\u001b[0m in \u001b[0;36mrun_line_magic\u001b[1;34m(self, magic_name, line, _stack_depth)\u001b[0m\n\u001b[0;32m   2342\u001b[0m                 \u001b[0mkwargs\u001b[0m\u001b[1;33m[\u001b[0m\u001b[1;34m'local_ns'\u001b[0m\u001b[1;33m]\u001b[0m \u001b[1;33m=\u001b[0m \u001b[0mself\u001b[0m\u001b[1;33m.\u001b[0m\u001b[0mget_local_scope\u001b[0m\u001b[1;33m(\u001b[0m\u001b[0mstack_depth\u001b[0m\u001b[1;33m)\u001b[0m\u001b[1;33m\u001b[0m\u001b[1;33m\u001b[0m\u001b[0m\n\u001b[0;32m   2343\u001b[0m             \u001b[1;32mwith\u001b[0m \u001b[0mself\u001b[0m\u001b[1;33m.\u001b[0m\u001b[0mbuiltin_trap\u001b[0m\u001b[1;33m:\u001b[0m\u001b[1;33m\u001b[0m\u001b[1;33m\u001b[0m\u001b[0m\n\u001b[1;32m-> 2344\u001b[1;33m                 \u001b[0mresult\u001b[0m \u001b[1;33m=\u001b[0m \u001b[0mfn\u001b[0m\u001b[1;33m(\u001b[0m\u001b[1;33m*\u001b[0m\u001b[0margs\u001b[0m\u001b[1;33m,\u001b[0m \u001b[1;33m**\u001b[0m\u001b[0mkwargs\u001b[0m\u001b[1;33m)\u001b[0m\u001b[1;33m\u001b[0m\u001b[1;33m\u001b[0m\u001b[0m\n\u001b[0m\u001b[0;32m   2345\u001b[0m             \u001b[1;32mreturn\u001b[0m \u001b[0mresult\u001b[0m\u001b[1;33m\u001b[0m\u001b[1;33m\u001b[0m\u001b[0m\n\u001b[0;32m   2346\u001b[0m \u001b[1;33m\u001b[0m\u001b[0m\n",
      "\u001b[1;32m~\\anaconda3\\lib\\site-packages\\decorator.py\u001b[0m in \u001b[0;36mfun\u001b[1;34m(*args, **kw)\u001b[0m\n\u001b[0;32m    229\u001b[0m             \u001b[1;32mif\u001b[0m \u001b[1;32mnot\u001b[0m \u001b[0mkwsyntax\u001b[0m\u001b[1;33m:\u001b[0m\u001b[1;33m\u001b[0m\u001b[1;33m\u001b[0m\u001b[0m\n\u001b[0;32m    230\u001b[0m                 \u001b[0margs\u001b[0m\u001b[1;33m,\u001b[0m \u001b[0mkw\u001b[0m \u001b[1;33m=\u001b[0m \u001b[0mfix\u001b[0m\u001b[1;33m(\u001b[0m\u001b[0margs\u001b[0m\u001b[1;33m,\u001b[0m \u001b[0mkw\u001b[0m\u001b[1;33m,\u001b[0m \u001b[0msig\u001b[0m\u001b[1;33m)\u001b[0m\u001b[1;33m\u001b[0m\u001b[1;33m\u001b[0m\u001b[0m\n\u001b[1;32m--> 231\u001b[1;33m             \u001b[1;32mreturn\u001b[0m \u001b[0mcaller\u001b[0m\u001b[1;33m(\u001b[0m\u001b[0mfunc\u001b[0m\u001b[1;33m,\u001b[0m \u001b[1;33m*\u001b[0m\u001b[1;33m(\u001b[0m\u001b[0mextras\u001b[0m \u001b[1;33m+\u001b[0m \u001b[0margs\u001b[0m\u001b[1;33m)\u001b[0m\u001b[1;33m,\u001b[0m \u001b[1;33m**\u001b[0m\u001b[0mkw\u001b[0m\u001b[1;33m)\u001b[0m\u001b[1;33m\u001b[0m\u001b[1;33m\u001b[0m\u001b[0m\n\u001b[0m\u001b[0;32m    232\u001b[0m     \u001b[0mfun\u001b[0m\u001b[1;33m.\u001b[0m\u001b[0m__name__\u001b[0m \u001b[1;33m=\u001b[0m \u001b[0mfunc\u001b[0m\u001b[1;33m.\u001b[0m\u001b[0m__name__\u001b[0m\u001b[1;33m\u001b[0m\u001b[1;33m\u001b[0m\u001b[0m\n\u001b[0;32m    233\u001b[0m     \u001b[0mfun\u001b[0m\u001b[1;33m.\u001b[0m\u001b[0m__doc__\u001b[0m \u001b[1;33m=\u001b[0m \u001b[0mfunc\u001b[0m\u001b[1;33m.\u001b[0m\u001b[0m__doc__\u001b[0m\u001b[1;33m\u001b[0m\u001b[1;33m\u001b[0m\u001b[0m\n",
      "\u001b[1;32m~\\anaconda3\\lib\\site-packages\\IPython\\core\\magic.py\u001b[0m in \u001b[0;36m<lambda>\u001b[1;34m(f, *a, **k)\u001b[0m\n\u001b[0;32m    185\u001b[0m     \u001b[1;31m# but it's overkill for just that one bit of state.\u001b[0m\u001b[1;33m\u001b[0m\u001b[1;33m\u001b[0m\u001b[1;33m\u001b[0m\u001b[0m\n\u001b[0;32m    186\u001b[0m     \u001b[1;32mdef\u001b[0m \u001b[0mmagic_deco\u001b[0m\u001b[1;33m(\u001b[0m\u001b[0marg\u001b[0m\u001b[1;33m)\u001b[0m\u001b[1;33m:\u001b[0m\u001b[1;33m\u001b[0m\u001b[1;33m\u001b[0m\u001b[0m\n\u001b[1;32m--> 187\u001b[1;33m         \u001b[0mcall\u001b[0m \u001b[1;33m=\u001b[0m \u001b[1;32mlambda\u001b[0m \u001b[0mf\u001b[0m\u001b[1;33m,\u001b[0m \u001b[1;33m*\u001b[0m\u001b[0ma\u001b[0m\u001b[1;33m,\u001b[0m \u001b[1;33m**\u001b[0m\u001b[0mk\u001b[0m\u001b[1;33m:\u001b[0m \u001b[0mf\u001b[0m\u001b[1;33m(\u001b[0m\u001b[1;33m*\u001b[0m\u001b[0ma\u001b[0m\u001b[1;33m,\u001b[0m \u001b[1;33m**\u001b[0m\u001b[0mk\u001b[0m\u001b[1;33m)\u001b[0m\u001b[1;33m\u001b[0m\u001b[1;33m\u001b[0m\u001b[0m\n\u001b[0m\u001b[0;32m    188\u001b[0m \u001b[1;33m\u001b[0m\u001b[0m\n\u001b[0;32m    189\u001b[0m         \u001b[1;32mif\u001b[0m \u001b[0mcallable\u001b[0m\u001b[1;33m(\u001b[0m\u001b[0marg\u001b[0m\u001b[1;33m)\u001b[0m\u001b[1;33m:\u001b[0m\u001b[1;33m\u001b[0m\u001b[1;33m\u001b[0m\u001b[0m\n",
      "\u001b[1;32m~\\anaconda3\\lib\\site-packages\\IPython\\core\\magics\\extension.py\u001b[0m in \u001b[0;36mload_ext\u001b[1;34m(self, module_str)\u001b[0m\n\u001b[0;32m     31\u001b[0m         \u001b[1;32mif\u001b[0m \u001b[1;32mnot\u001b[0m \u001b[0mmodule_str\u001b[0m\u001b[1;33m:\u001b[0m\u001b[1;33m\u001b[0m\u001b[1;33m\u001b[0m\u001b[0m\n\u001b[0;32m     32\u001b[0m             \u001b[1;32mraise\u001b[0m \u001b[0mUsageError\u001b[0m\u001b[1;33m(\u001b[0m\u001b[1;34m'Missing module name.'\u001b[0m\u001b[1;33m)\u001b[0m\u001b[1;33m\u001b[0m\u001b[1;33m\u001b[0m\u001b[0m\n\u001b[1;32m---> 33\u001b[1;33m         \u001b[0mres\u001b[0m \u001b[1;33m=\u001b[0m \u001b[0mself\u001b[0m\u001b[1;33m.\u001b[0m\u001b[0mshell\u001b[0m\u001b[1;33m.\u001b[0m\u001b[0mextension_manager\u001b[0m\u001b[1;33m.\u001b[0m\u001b[0mload_extension\u001b[0m\u001b[1;33m(\u001b[0m\u001b[0mmodule_str\u001b[0m\u001b[1;33m)\u001b[0m\u001b[1;33m\u001b[0m\u001b[1;33m\u001b[0m\u001b[0m\n\u001b[0m\u001b[0;32m     34\u001b[0m \u001b[1;33m\u001b[0m\u001b[0m\n\u001b[0;32m     35\u001b[0m         \u001b[1;32mif\u001b[0m \u001b[0mres\u001b[0m \u001b[1;33m==\u001b[0m \u001b[1;34m'already loaded'\u001b[0m\u001b[1;33m:\u001b[0m\u001b[1;33m\u001b[0m\u001b[1;33m\u001b[0m\u001b[0m\n",
      "\u001b[1;32m~\\anaconda3\\lib\\site-packages\\IPython\\core\\extensions.py\u001b[0m in \u001b[0;36mload_extension\u001b[1;34m(self, module_str)\u001b[0m\n\u001b[0;32m     78\u001b[0m             \u001b[1;32mif\u001b[0m \u001b[0mmodule_str\u001b[0m \u001b[1;32mnot\u001b[0m \u001b[1;32min\u001b[0m \u001b[0msys\u001b[0m\u001b[1;33m.\u001b[0m\u001b[0mmodules\u001b[0m\u001b[1;33m:\u001b[0m\u001b[1;33m\u001b[0m\u001b[1;33m\u001b[0m\u001b[0m\n\u001b[0;32m     79\u001b[0m                 \u001b[1;32mwith\u001b[0m \u001b[0mprepended_to_syspath\u001b[0m\u001b[1;33m(\u001b[0m\u001b[0mself\u001b[0m\u001b[1;33m.\u001b[0m\u001b[0mipython_extension_dir\u001b[0m\u001b[1;33m)\u001b[0m\u001b[1;33m:\u001b[0m\u001b[1;33m\u001b[0m\u001b[1;33m\u001b[0m\u001b[0m\n\u001b[1;32m---> 80\u001b[1;33m                     \u001b[0mmod\u001b[0m \u001b[1;33m=\u001b[0m \u001b[0mimport_module\u001b[0m\u001b[1;33m(\u001b[0m\u001b[0mmodule_str\u001b[0m\u001b[1;33m)\u001b[0m\u001b[1;33m\u001b[0m\u001b[1;33m\u001b[0m\u001b[0m\n\u001b[0m\u001b[0;32m     81\u001b[0m                     \u001b[1;32mif\u001b[0m \u001b[0mmod\u001b[0m\u001b[1;33m.\u001b[0m\u001b[0m__file__\u001b[0m\u001b[1;33m.\u001b[0m\u001b[0mstartswith\u001b[0m\u001b[1;33m(\u001b[0m\u001b[0mself\u001b[0m\u001b[1;33m.\u001b[0m\u001b[0mipython_extension_dir\u001b[0m\u001b[1;33m)\u001b[0m\u001b[1;33m:\u001b[0m\u001b[1;33m\u001b[0m\u001b[1;33m\u001b[0m\u001b[0m\n\u001b[0;32m     82\u001b[0m                         print((\"Loading extensions from {dir} is deprecated. \"\n",
      "\u001b[1;32m~\\anaconda3\\lib\\importlib\\__init__.py\u001b[0m in \u001b[0;36mimport_module\u001b[1;34m(name, package)\u001b[0m\n\u001b[0;32m    125\u001b[0m                 \u001b[1;32mbreak\u001b[0m\u001b[1;33m\u001b[0m\u001b[1;33m\u001b[0m\u001b[0m\n\u001b[0;32m    126\u001b[0m             \u001b[0mlevel\u001b[0m \u001b[1;33m+=\u001b[0m \u001b[1;36m1\u001b[0m\u001b[1;33m\u001b[0m\u001b[1;33m\u001b[0m\u001b[0m\n\u001b[1;32m--> 127\u001b[1;33m     \u001b[1;32mreturn\u001b[0m \u001b[0m_bootstrap\u001b[0m\u001b[1;33m.\u001b[0m\u001b[0m_gcd_import\u001b[0m\u001b[1;33m(\u001b[0m\u001b[0mname\u001b[0m\u001b[1;33m[\u001b[0m\u001b[0mlevel\u001b[0m\u001b[1;33m:\u001b[0m\u001b[1;33m]\u001b[0m\u001b[1;33m,\u001b[0m \u001b[0mpackage\u001b[0m\u001b[1;33m,\u001b[0m \u001b[0mlevel\u001b[0m\u001b[1;33m)\u001b[0m\u001b[1;33m\u001b[0m\u001b[1;33m\u001b[0m\u001b[0m\n\u001b[0m\u001b[0;32m    128\u001b[0m \u001b[1;33m\u001b[0m\u001b[0m\n\u001b[0;32m    129\u001b[0m \u001b[1;33m\u001b[0m\u001b[0m\n",
      "\u001b[1;32m~\\anaconda3\\lib\\importlib\\_bootstrap.py\u001b[0m in \u001b[0;36m_gcd_import\u001b[1;34m(name, package, level)\u001b[0m\n",
      "\u001b[1;32m~\\anaconda3\\lib\\importlib\\_bootstrap.py\u001b[0m in \u001b[0;36m_find_and_load\u001b[1;34m(name, import_)\u001b[0m\n",
      "\u001b[1;32m~\\anaconda3\\lib\\importlib\\_bootstrap.py\u001b[0m in \u001b[0;36m_find_and_load_unlocked\u001b[1;34m(name, import_)\u001b[0m\n",
      "\u001b[1;31mModuleNotFoundError\u001b[0m: No module named 'memory_profiler'"
     ]
    }
   ],
   "source": [
    "import main\n",
    "\n",
    "import numpy as np\n",
    "import scipy\n",
    "import matplotlib\n",
    "import matplotlib.pyplot as plt  \n",
    "\n",
    "%load_ext memory_profiler"
   ]
  },
  {
   "cell_type": "markdown",
   "metadata": {},
   "source": [
    "***Materiały przygotowujące:***\n",
    "- Standard IEEE 754 [PL](https://pl.wikipedia.org/wiki/IEEE_754) [EN](https://en.wikipedia.org/wiki/IEEE_754)\n",
    "- Liczba zmiennoprzecinkowa [PL](https://pl.wikipedia.org/wiki/Liczba_zmiennoprzecinkowa) [EN](https://en.wikipedia.org/wiki/Floating-point_arithmetic)\n",
    "- Arytmetyka zmiennoprzecinkowa [Python](https://docs.python.org/3.7/tutorial/floatingpoint.html)"
   ]
  },
  {
   "cell_type": "markdown",
   "metadata": {},
   "source": [
    "***Profilowanie kodu:***\n",
    "- [timeit](https://docs.python.org/2/library/timeit.html) - profilowanie czasu wykonywania kodu \n",
    "- [memit](https://pypi.org/project/memory-profiler/) - profilowanie pamięci zużywanej przez kod\n",
    "\n",
    "Zarówno timeit jak i memit wspierają magic command w Jupyter notebook, co obrazuje poniższy przykład:"
   ]
  },
  {
   "cell_type": "code",
   "execution_count": null,
   "metadata": {},
   "outputs": [],
   "source": [
    "def func(size):\n",
    "    a = np.random.random((size,size))\n",
    "    b = np.random.random((size,size))\n",
    "    c = a + b\n",
    "    return c\n",
    "\n",
    "for size in [100, 1000, 10000]:\n",
    "    print('SIZE: ', size)\n",
    "    print('Timing: ')\n",
    "    saved_timing = %timeit -r 5 -n 10 -o func(size)\n",
    "    saved_timing.average   # średni czas próby\n",
    "    saved_timing.stdev     # odchylenie standardowe\n",
    "    print('Memory usage: ')\n",
    "    %memit func(size)\n",
    "    print('\\n')"
   ]
  },
  {
   "cell_type": "markdown",
   "metadata": {},
   "source": [
    "***Zadanie 1.***  \n",
    "Zaimplementuj funkcje obliczające błąd względny i bezwzględny (*relative_error* i *absolut_error*).\n",
    "Funkcje przyjmują 2 argumenty: wartość dokładną oraz wartość przybliżoną, zwracając wartość błędu.\n",
    "Implementacja powinna obsługiwać zarówno wartości skalarne, listy oraz wektory i macierze typu np.array z zachowaniem zasad [broadcastingu](https://numpy.org/doc/stable/user/basics.broadcasting.html).\n",
    "\n",
    "**Wskazówka** Wykorzystuj funkcje *relative_error* i *absolut_error* w dalszej części laboratorium do analizy błędów."
   ]
  },
  {
   "cell_type": "markdown",
   "metadata": {},
   "source": [
    "***Zadanie 2.***  \n",
    "Zaimplementuj funkcje *p_diff*, która przyjmuje jako parametry wartości całkowite $n$ i rzeczywiste $c$ oraz zwraca różnicę (co do wartości bezwzględnej)   dwóch wyrażeń $P_1$ oraz $P_2$:  \n",
    "  \n",
    "a) $P_1 = b - b + c $  \n",
    "b) $P_2 = b + c - b $  \n",
    "  \n",
    "gdzie $b = 2^n$\n",
    "\n",
    "Analizując różnicę w otrzymanych wynikach zastosuj warotści:  \n",
    "- $n \\in \\{1,2,3... 50\\}$\n",
    "- $c \\in \\{0.1, 0.125, 0.25, 0.33, 0.5, 0.6\\}$\n",
    " \n",
    "Następnie odpowiedź i zilustruj wykresami pytania:\n",
    "\n",
    "1. Jaki wynik powinniśmy otrzymać?\n",
    "2. Które z liczb mają skończoną a które nieskończoną reprezentację?    \n",
    "3. Dlaczego wyniki się od siebie różnią?    \n",
    "4. Jaki typ błędu tutaj występuje?\n",
    "5. Czy istnieje możliwość poprawy działania tych wyrażeń, jeżeli tak to w jaki sposób?  \n"
   ]
  },
  {
   "cell_type": "code",
   "execution_count": 9,
   "metadata": {},
   "outputs": [
    {
     "name": "stdout",
     "output_type": "stream",
     "text": [
      "Dla n=0 and c=[0.1, 0.125, 0.25, 0.33, 0.5, 0.6]\n",
      "results is 8.326672684688674e-17\n",
      "Dla n=1 and c=[0.1, 0.125, 0.25, 0.33, 0.5, 0.6]\n",
      "results is 0.0\n",
      "Dla n=2 and c=[0.1, 0.125, 0.25, 0.33, 0.5, 0.6]\n",
      "results is 0.0\n",
      "Dla n=3 and c=[0.1, 0.125, 0.25, 0.33, 0.5, 0.6]\n",
      "results is 5.551115123125783e-17\n",
      "Dla n=4 and c=[0.1, 0.125, 0.25, 0.33, 0.5, 0.6]\n",
      "results is 0.0\n",
      "Dla n=5 and c=[0.1, 0.125, 0.25, 0.33, 0.5, 0.6]\n",
      "results is 1.4432899320127035e-15\n"
     ]
    }
   ],
   "source": [
    "\n",
    "c = [0.1, 0.125, 0.25, 0.33, 0.5, 0.6]\n",
    "\n",
    "for n in range(len(c)):\n",
    "    print(f\"Dla n={n} and c={c}\")\n",
    "    print(f\"results is {main.p_diff(n,c[n])}\")          "
   ]
  },
  {
   "cell_type": "markdown",
   "metadata": {},
   "source": [
    "1.Wyniki jakie powinniśmy otrzymać to zera, ale w trzech przypadkach wyszły liczby w okolicach zera, wynika to z błędów zaokrąglenia   \n",
    "2.Nieskończoną reprezentację mają liczby 0.1,0.33,0.6 reszta liczb ma skończoną reprezentację  \n",
    "3.Wyniki są różne ponieważ zapis każdej z liczb dysponuje ograniczoną ilością bitów możliwych do wykorzystywania w celu zapamiętania określonej liczby.  \n",
    "4.Mamy tutaj do czynienia z błędem reprezentacji, powstają one gdy występuje konieczność reprezentacji liczby w maszynie z wykorzystaniem skończonej długości słów binarnych, co wymusza zaokrąglenie  \n",
    "5.Istnieje możliwość poprawy działania tych wyrażeń, wystarczy zwiększyć ilość bitów przeznaczonych na zapis liczby  "
   ]
  },
  {
   "cell_type": "markdown",
   "metadata": {},
   "source": [
    "***Zadanie 3.***  \n",
    "Wartości funkcji $\\mathrm{e}^{x}$ można obliczyć w przybliżeniu z szeregu Taylora w następujący sposób:  \n",
    "  \n",
    "$\\mathrm{e}^{x} \\approx \\sum\\limits_{i=0}^{N}{\\cfrac{1}{i!}x^{i}}$ \n",
    "  \n",
    "na podstawie przedstawionych informacji zaimplementuj funkcje *exponential* która oblicza $\\mathrm{e}^{x}$ z zadaną dokładnością $N$. Porównaj działanie utworzonej funkcji z [numpy.exp](https://docs.scipy.org/doc/numpy-1.15.1/reference/generated/numpy.exp.html). Odpowiedz na pytania:  \n",
    "\n",
    "1. Jaki typ błędu obrazuje omawiany przykład?\n",
    "2. Dokonaj analizy błędów bezwzględnych i względnych w zależności od wartości $n$."
   ]
  },
  {
   "cell_type": "code",
   "execution_count": 20,
   "metadata": {},
   "outputs": [
    {
     "name": "stdout",
     "output_type": "stream",
     "text": [
      "Dla n = 1, e = 1.0,blad bezwgledny: 1.7182818285, blad wzgledny:0.6321205588\n",
      "\n",
      "Dla n = 2, e = 2.0,blad bezwgledny: 0.7182818285, blad wzgledny:0.2642411177\n",
      "\n",
      "Dla n = 3, e = 2.5,blad bezwgledny: 0.2182818285, blad wzgledny:0.0803013971\n",
      "\n",
      "Dla n = 4, e = 2.6666666666666665,blad bezwgledny: 0.0516151618, blad wzgledny:0.0189881569\n",
      "\n",
      "Dla n = 5, e = 2.708333333333333,blad bezwgledny: 0.0099484951, blad wzgledny:0.0036598468\n",
      "\n",
      "Dla n = 6, e = 2.7166666666666663,blad bezwgledny: 0.0016151618, blad wzgledny:0.0005941848\n",
      "\n",
      "Dla n = 7, e = 2.7180555555555554,blad bezwgledny: 0.0002262729, blad wzgledny:0.0000832411\n",
      "\n",
      "Dla n = 8, e = 2.7182539682539684,blad bezwgledny: 0.0000278602, blad wzgledny:0.0000102492\n",
      "\n",
      "Dla n = 9, e = 2.71827876984127,blad bezwgledny: 0.0000030586, blad wzgledny:0.0000011252\n",
      "\n",
      "Dla n = 10, e = 2.7182815255731922,blad bezwgledny: 0.0000003029, blad wzgledny:0.0000001114\n",
      "\n"
     ]
    },
    {
     "data": {
      "image/png": "[encoded data removed]",
      "text/plain": [
       "<Figure size 432x288 with 1 Axes>"
      ]
     },
     "metadata": {
      "needs_background": "light"
     },
     "output_type": "display_data"
    }
   ],
   "source": [
    "\n",
    "absolut_error = np.zeros(10)\n",
    "relative_error = np.zeros(10)\n",
    "\n",
    "for n in range(10):\n",
    "    absolut_error[n] =main.absolut_error(np.pi,main.pi(n+1))\n",
    "    relative_error[n] = main.relative_error(np.pi,main.pi(n+1))\n",
    "    print(f\"Dla n = {n+1}, e = {main.exponential(1,n+1)},blad bezwgledny: {main.absolut_error(np.exp(1),main.exponential(1,n+1)):.10f}, blad wzgledny:{main.relative_error (np.exp(1),main.exponential(1,n+1)):.10f}\\n\")\n",
    "\n",
    "plt.plot(absolut_error)\n",
    "plt.plot(relative_error, \"o\")\n",
    "plt.legend([\"Błąd bezwgledny\",\"Błąd wzgledny\"])\n",
    "plt.grid()\n",
    "plt.show()"
   ]
  },
  {
   "cell_type": "markdown",
   "metadata": {},
   "source": [
    "1.Mamy tutaj do czynienia z błędem obcięcia. Często związany z przybliżeniem obliczeń nieskończonych, gdy występuje konieczność pominięcia najmniej istotnych wyrazów wyrażenia.  \n",
    "2.Waraz ze wzrostem dokładności obie wartości zaczynają maleć, a dla n=10 błąd bezwzględny i błąd względny jest bardzo mały."
   ]
  },
  {
   "cell_type": "markdown",
   "metadata": {},
   "source": [
    "***Zadania 4.***  \n",
    "Zaimplementuj 2 funkcje $coskx1$ i $coskx2$, realizujące rekurencyjnie przybliżanie wartości $cos(kx)$ w następujący sposób:\n",
    "\n",
    "- Metoda 1:         \n",
    "$cos(m+1)x = 2cosx \\cdot cos(mx) - cos(m-1)x$\n",
    "- Metoda 2:     \n",
    "$cos(mx) = cosx \\cdot cos(m-1)x - sinx \\cdot sin(m-1)x$       \n",
    "$sin(mx) = sinx \\cdot cos(m-1)x + cosx \\cdot sin(m-1)x$\n",
    "\n",
    "Następnie przeanalizuj otrzymane rezultaty dla różnych $k$.\n",
    "\n",
    "**Wskazówka** Do wyliczenia wartości $sin(x)$, $cos(x)$ (dla $k=1$) można użyć funkcji biblioteki numpy. \n",
    "Pozostałe wartości dla $k>1$ należy wyznaczyć rekurencyjnie."
   ]
  },
  {
   "cell_type": "code",
   "execution_count": null,
   "metadata": {},
   "outputs": [],
   "source": [
    "print(\"metoda pierwsza dla funkcji coskx1\\n\")\n",
    "print(\"wynik dla cos(pi) to -1\\n\")\n",
    "print(f\"x1=pi/4, k ={4}, cos(pi)={main.coskx1(4,np.pi/4)}\\n\")\n",
    "print(\"wynik dla cos(pi/2) wynosić -1\\n\")\n",
    "print(f\"x1=pi/4, k = {2}, cos(pi/2)={main.coskx1(2,np.pi/4)}\\n\")\n",
    "\n",
    "print(\"metoda druga dla funkcji coskx2 oraz sinkx2\\n\")\n",
    "print(\"wynik dla cos(pi) to -1, a dla sin(pi) to 0\\n\")\n",
    "print(f\"x = pi/4, k = {4}, cos(pi) = {main.coskx2(4, np.pi/4)[0]}, sin(pi) = {main.coskx2(4, np.pi/4)[1]} \\n\")\n",
    "print(\"wynik dla cos(pi/2) to 0, a dla sin(pi/2) to 1\\n\")\n",
    "print(f\"x = pi/4, k = {2}, cos(pi/2) = {main.coskx2(2, np.pi/4)[0]}, sin(pi/2) = {main.coskx2(2, np.pi/4)[1]} \\n\")\n",
    "\n",
    "\n",
    "\n"
   ]
  },
  {
   "cell_type": "markdown",
   "metadata": {},
   "source": [
    "***Zadanie 5.***  \n",
    "Wiedząc, że\n",
    "$\\begin{aligned}\n",
    "\\sum_{n=1}^{\\infty} \\cfrac{1}{n^2} = \\cfrac{1}{6} \\pi^2\n",
    "\\end{aligned}$,\n",
    "napisz kod w Pythonie (funkcja *pi*) obliczający przybliżenie liczby pi (nie korzystaj ze stałych <i>numpy.pi</i>, <i>math.pi</i> itp.). \n",
    "\n",
    "1. Z jakimi rodzajami błędów numerycznych mamy tu do czynienia? \n",
    "2. Sporządź wykresy błędów bezwzględnych i względnych w stosunku do stałej numpy.pi w zależności od wartości $n$.  \n",
    "\n",
    "**Wskazówka** Do wizualizacji wyników użyj skali logarytmicznej."
   ]
  },
  {
   "cell_type": "code",
   "execution_count": 25,
   "metadata": {},
   "outputs": [
    {
     "name": "stdout",
     "output_type": "stream",
     "text": [
      "Dla n= 1 pi =  2.449489742783178 bład bezwzgledny wynosi: 0.6921029108066152 a wzgledny 0.22030319876632393\n",
      "Dla n= 2 pi =  2.7386127875258306 bład bezwzgledny wynosi: 0.4029798660639625 a wzgledny 0.12827247530117913\n",
      "Dla n= 3 pi =  2.8577380332470415 bład bezwzgledny wynosi: 0.28385462034275166 a wzgledny 0.0903537318940444\n",
      "Dla n= 4 pi =  2.9226129861250305 bład bezwzgledny wynosi: 0.2189796674647626 a wzgledny 0.06970339302727292\n",
      "Dla n= 5 pi =  2.9633877010385707 bład bezwzgledny wynosi: 0.17820495255122237 a wzgledny 0.05672439816396741\n",
      "Dla n= 6 pi =  2.9913764947484185 bład bezwzgledny wynosi: 0.15021615884137463 a wzgledny 0.04781528842376418\n",
      "Dla n= 7 pi =  3.011773947846214 bład bezwzgledny wynosi: 0.1298187057435789 a wzgledny 0.04132257744976561\n",
      "Dla n= 8 pi =  3.027297856657843 bład bezwzgledny wynosi: 0.11429479693195033 a wzgledny 0.03638116380280858\n",
      "Dla n= 9 pi =  3.0395075895610533 bład bezwzgledny wynosi: 0.10208506402873985 a wzgledny 0.03249468511205317\n",
      "Dla n= 10 pi =  3.04936163598207 bład bezwzgledny wynosi: 0.09223101760772323 a wzgledny 0.029358044717329577\n",
      "Dla n= 11 pi =  3.0574815067075627 bład bezwzgledny wynosi: 0.08411114688223043 a wzgledny 0.026773409590870868\n",
      "Dla n= 12 pi =  3.064287817833928 bład bezwzgledny wynosi: 0.07730483575586522 a wzgledny 0.02460689347090609\n",
      "Dla n= 13 pi =  3.0700753718932203 bład bezwzgledny wynosi: 0.07151728169657279 a wzgledny 0.02276465779701018\n",
      "Dla n= 14 pi =  3.0750569155713614 bład bezwzgledny wynosi: 0.06653573801843171 a wzgledny 0.021178983195801512\n",
      "Dla n= 15 pi =  3.079389826032086 bład bezwzgledny wynosi: 0.0622028275577069 a wzgledny 0.01979977496020364\n",
      "Dla n= 16 pi =  3.0831930203394537 bład bezwzgledny wynosi: 0.05839963325033937 a wzgledny 0.01858918061309064\n",
      "Dla n= 17 pi =  3.086558025753714 bład bezwzgledny wynosi: 0.05503462783607915 a wzgledny 0.017518066122669634\n",
      "Dla n= 18 pi =  3.089556434969781 bład bezwzgledny wynosi: 0.052036218620012065 a wzgledny 0.01656364282637089\n",
      "Dla n= 19 pi =  3.092245052300697 bład bezwzgledny wynosi: 0.04934760128909632 a wzgledny 0.015707829349775333\n",
      "Dla n= 20 pi =  3.094669524113704 bład bezwzgledny wynosi: 0.04692312947608901 a wzgledny 0.014936096002921166\n",
      "Dla n= 21 pi =  3.0968669499439283 bład bezwzgledny wynosi: 0.04472570364586481 a wzgledny 0.01423663363700518\n",
      "Dla n= 22 pi =  3.098867793222209 bład bezwzgledny wynosi: 0.04272486036758405 a wzgledny 0.013599745440824028\n",
      "Dla n= 23 pi =  3.100697301395178 bład bezwzgledny wynosi: 0.04089535219461515 a wzgledny 0.013017394902513984\n",
      "Dla n= 24 pi =  3.1023765763598083 bład bezwzgledny wynosi: 0.03921607722998477 a wzgledny 0.012482865079651198\n",
      "Dla n= 25 pi =  3.1039233917005755 bład bezwzgledny wynosi: 0.0376692618892176 a wzgledny 0.011990498464584257\n",
      "Dla n= 26 pi =  3.1053528239462542 bład bezwzgledny wynosi: 0.03623982964353889 a wzgledny 0.011535496049154827\n",
      "Dla n= 27 pi =  3.1066777454164556 bład bezwzgledny wynosi: 0.03491490817333753 a wzgledny 0.011113760446772574\n",
      "Dla n= 28 pi =  3.1079092128133925 bład bezwzgledny wynosi: 0.03368344077640062 a wzgledny 0.010721772199814536\n",
      "Dla n= 29 pi =  3.109056776410318 bład bezwzgledny wynosi: 0.03253587717947504 a wzgledny 0.010356491361888492\n",
      "Dla n= 30 pi =  3.1101287281412624 bład bezwzgledny wynosi: 0.031463925448530716 a wzgledny 0.010015278528417087\n"
     ]
    },
    {
     "data": {
      "image/png": "[encoded data removed]",
      "text/plain": [
       "<Figure size 432x288 with 1 Axes>"
      ]
     },
     "metadata": {
      "needs_background": "light"
     },
     "output_type": "display_data"
    }
   ],
   "source": [
    "wzgl = []\n",
    "bez = []\n",
    "for n in range(30):\n",
    "    bez.append(main.absolut_error(np.pi,main.pi(n+1)))\n",
    "    wzgl.append(main.relative_error(np.pi,main.pi(n+1)))\n",
    "    print(\"Dla n=\",n+1,\"pi = \",main.pi(n+1),\"bład bezwzgledny wynosi:\",bez[n],\"a wzgledny\",wzgl[n])\n",
    "    \n",
    "plt.plot(bez,\"o\")\n",
    "plt.plot(wzgl,\"-\")\n",
    "plt.legend([\"błąd bezwgledny\",\"błąd względny\"])\n",
    "plt.grid()\n",
    "plt.show()"
   ]
  },
  {
   "cell_type": "markdown",
   "metadata": {},
   "source": [
    "1.Błędy występujące w tym przykładzie to błędy obcięcia (suma nieskończonego ciągu nie jest możliwa do obliczenia w sposób numeryczny) oraz błędy zaokrągleń im większa wartość parametru n, tym mniejsze kolejne wyrazy ciągu 1/(n^2) reprezentacji  \n",
    "2.Dla małych wartości n błąd bezwględny i względny jest duży, wraz ze wzrostem obie wartości maleją.  "
   ]
  },
  {
   "cell_type": "markdown",
   "metadata": {},
   "source": [
    "***Zadanie 6.***  \n",
    "Używając funkcji timeit oraz memit zbadaj czas działania oraz zużycie pamięci funkcji z Zadania 4 w zalożności od różnych wartości $n$.     \n",
    "Sporządź wykresy:\n",
    "- czasu obliczenia danego przybliżenia liczby pi w zależności od $n$. \n",
    "W tym celu wykorzystaj funkcje [errorbar](https://matplotlib.org/3.1.1/api/_as_gen/matplotlib.pyplot.errorbar.html) oraz zwracane przez *timeit* wartości średnie oraz ich odchylenie standardowe. \n",
    "- błędu bezwzględnego przybliżenia liczby pi od czasu jego wykonania.\n",
    "\n",
    "\n",
    "\n",
    "**Wskazówka** Użyj opcji -o (output) dla *timeit* aby zapisać wynik do zmiennej. Opcje -r (runs) i -n (ilość pentli) decydują o ilości wykonanych prób.     \n",
    "Do wizualizacji wyników użyj skali logarytmicznej."
   ]
  },
  {
   "cell_type": "code",
   "execution_count": 8,
   "metadata": {},
   "outputs": [
    {
     "name": "stdout",
     "output_type": "stream",
     "text": [
      "520 ns ± 170 ns per loop (mean ± std. dev. of 5 runs, 10 loops each)\n",
      "6.67 µs ± 645 ns per loop (mean ± std. dev. of 5 runs, 10 loops each)\n",
      "4.71 µs ± 1.26 µs per loop (mean ± std. dev. of 5 runs, 10 loops each)\n",
      "7.67 µs ± 981 ns per loop (mean ± std. dev. of 5 runs, 10 loops each)\n",
      "9.04 µs ± 614 ns per loop (mean ± std. dev. of 5 runs, 10 loops each)\n",
      "9.31 µs ± 969 ns per loop (mean ± std. dev. of 5 runs, 10 loops each)\n",
      "10.7 µs ± 816 ns per loop (mean ± std. dev. of 5 runs, 10 loops each)\n",
      "10.6 µs ± 1.03 µs per loop (mean ± std. dev. of 5 runs, 10 loops each)\n",
      "11.5 µs ± 986 ns per loop (mean ± std. dev. of 5 runs, 10 loops each)\n",
      "12.4 µs ± 1.03 µs per loop (mean ± std. dev. of 5 runs, 10 loops each)\n",
      "13.1 µs ± 1.14 µs per loop (mean ± std. dev. of 5 runs, 10 loops each)\n",
      "13.3 µs ± 1.09 µs per loop (mean ± std. dev. of 5 runs, 10 loops each)\n",
      "14.4 µs ± 1 µs per loop (mean ± std. dev. of 5 runs, 10 loops each)\n",
      "16.6 µs ± 3.36 µs per loop (mean ± std. dev. of 5 runs, 10 loops each)\n",
      "15.7 µs ± 927 ns per loop (mean ± std. dev. of 5 runs, 10 loops each)\n",
      "14.8 µs ± 575 ns per loop (mean ± std. dev. of 5 runs, 10 loops each)\n",
      "15.2 µs ± 941 ns per loop (mean ± std. dev. of 5 runs, 10 loops each)\n",
      "10.4 µs ± 1.19 µs per loop (mean ± std. dev. of 5 runs, 10 loops each)\n",
      "10.5 µs ± 643 ns per loop (mean ± std. dev. of 5 runs, 10 loops each)\n",
      "11.9 µs ± 2.2 µs per loop (mean ± std. dev. of 5 runs, 10 loops each)\n"
     ]
    },
    {
     "data": {
      "image/png": "[encoded data removed]",
      "text/plain": [
       "<Figure size 432x288 with 1 Axes>"
      ]
     },
     "metadata": {
      "needs_background": "light"
     },
     "output_type": "display_data"
    },
    {
     "data": {
      "image/png": "[encoded data removed]",
      "text/plain": [
       "<Figure size 432x288 with 1 Axes>"
      ]
     },
     "metadata": {
      "needs_background": "light"
     },
     "output_type": "display_data"
    }
   ],
   "source": [
    "x = np.arange(0,20,1)\n",
    "time = np.zeros(20)\n",
    "deviation = np.zeros(20)\n",
    "error = np.zeros(20)\n",
    "\n",
    "\n",
    "for n in range(20):\n",
    "    saved_timing = %timeit -r 5 -n 10 -o main.pi(n)\n",
    "    time[n] = saved_timing.average #średnia\n",
    "    dev[n] =saved_timing.stdev #odchylenie standardowe\n",
    "    err[n] = main.absolut_error(main.pi(n), np.pi)\n",
    "\n",
    "\n",
    "plt.errorbar(x, time, yerr=deviation, ls=\"none\", marker=\"o\")\n",
    "plt.title(\"Czas obliczeń danego przybliżenia liczby pi w zależności od n\")\n",
    "plt.xlabel(\"n\")\n",
    "plt.ylabel(\"Czas wykonania\")\n",
    "plt.grid()\n",
    "plt.show()\n",
    "\n",
    "plt.plot(time, error, \"o\")\n",
    "plt.title(\"Czas obliczeń błędu bezwględnego danego przybliżenia liczby pi w zależności od n\")\n",
    "plt.xlabel(\"Czas wykonania\")\n",
    "plt.ylabel(\"Błąd bezwzględny\")\n",
    "plt.grid()\n",
    "plt.show()"
   ]
  },
  {
   "cell_type": "markdown",
   "metadata": {},
   "source": [
    "#Wnioski  \n",
    "1.Zapoznanie się z nową składnią funkcji print(f\"Input directory:{args.input}\") oraz print(f\"Output directory:{args.output_directory}\"),formatuja one łańcuchy znaków.Wyrażenia w klamrach są to zmienne.  \n",
    "2.Przećwiczenie biblioteki numpy do wykonywania obliczeń numerycznych oraz biblioteki matplotlib m.in. przez wyrysowywanie wykresów w celu zobrazowania błędu względnego i bezwględnego. Głównie mogliśmy zaobserwować, iż wraz ze wzrotem parametru n powyższe wartości zmniejszały się.  \n",
    "3.Największą trudność sprawiła mi trudność zaimplementowania błędu bezwzględnego, w którym trzeba było uwzględnić wartości skalarne, liczy oraz wektory dla wartości dokładnej i wartości przybliżonej.  \n",
    "4.Dzięki powyższej implementacji zapoznałem się z funkcją all(),zip() oraz any(),dzięki którym mogłem rozwiązać dany problem.  \n",
    "5.Zapoznanie się podstawowymi błędami numerycznymi, które można podzielić na cztery podstawowe kategorie: błędy danych wejściowych, błędy reprezentacji, błędy obcięcia, błędy zaokrągleń\n",
    "6.Bardzo spodobała mi się implementacja kodu obliczającego przybliżenie liczby pi oraz implementacja funkcji exponential która oblicza e^x z zadaną dokładnością 𝑁.\n",
    "7.W ostatnim zadaniu miałem możliwość zapoznać się z funkcją timeit oraz memit, która posłużyła do zbadania czasu działania oraz zużycia pamięci funkcji realizującej rekurencyjne przybliżanie wartości cos(kx) dwoma metodami.\n",
    "\n"
   ]
  },
  {
   "cell_type": "code",
   "execution_count": null,
   "metadata": {},
   "outputs": [],
   "source": []
  }
 ],
 "metadata": {
  "kernelspec": {
   "display_name": "Python 3",
   "language": "python",
   "name": "python3"
  },
  "language_info": {
   "codemirror_mode": {
    "name": "ipython",
    "version": 3
   },
   "file_extension": ".py",
   "mimetype": "text/x-python",
   "name": "python",
   "nbconvert_exporter": "python",
   "pygments_lexer": "ipython3",
   "version": "3.8.8"
  }
 },
 "nbformat": 4,
 "nbformat_minor": 2
}
